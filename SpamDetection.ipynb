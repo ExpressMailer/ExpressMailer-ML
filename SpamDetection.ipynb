{
  "nbformat": 4,
  "nbformat_minor": 0,
  "metadata": {
    "colab": {
      "name": "SpamDetection.ipynb",
      "provenance": [],
      "collapsed_sections": []
    },
    "kernelspec": {
      "name": "python3",
      "display_name": "Python 3"
    }
  },
  "cells": [
    {
      "cell_type": "code",
      "metadata": {
        "colab": {
          "base_uri": "https://localhost:8080/"
        },
        "id": "Z9EsX9lFvW43",
        "outputId": "dc0fc99b-0b22-459a-8ea0-a713b6ed89fa"
      },
      "source": [
        "#Mount the Google drive which contains our dataset\n",
        " \n",
        "from google.colab import drive          \n",
        "drive.mount('/content/drive')"
      ],
      "execution_count": null,
      "outputs": [
        {
          "output_type": "stream",
          "text": [
            "Drive already mounted at /content/drive; to attempt to forcibly remount, call drive.mount(\"/content/drive\", force_remount=True).\n"
          ],
          "name": "stdout"
        }
      ]
    },
    {
      "cell_type": "code",
      "metadata": {
        "id": "DEgX6xaktabX"
      },
      "source": [
        "#import all the needed libraries\n",
        "import mailbox\n",
        "import nltk\n",
        "%matplotlib inline\n",
        "import matplotlib.pyplot as plt\n",
        "import csv\n",
        "from textblob import TextBlob\n",
        "import pandas\n",
        "import sklearn\n",
        "import pickle\n",
        "import numpy as np\n",
        "from sklearn.feature_extraction.text import CountVectorizer, TfidfTransformer\n",
        "from sklearn.naive_bayes import MultinomialNB\n",
        "from sklearn.svm import SVC, LinearSVC\n",
        "from sklearn.metrics import classification_report, f1_score, accuracy_score, confusion_matrix\n",
        "from sklearn.pipeline import Pipeline\n",
        "# from sklearn.grid_search import GridSearchCV\n",
        "# from sklearn.cross_validation import StratifiedKFold, cross_val_score, train_test_split \n",
        "from sklearn.tree import DecisionTreeClassifier \n",
        "# from sklearn.learning_curve import learning_curve\n",
        "from sklearn.model_selection import train_test_split\n",
        " \n",
        "#import metrics libraries\n",
        "from sklearn.metrics import confusion_matrix\n",
        "from sklearn.metrics import precision_score\n",
        "from sklearn.metrics import recall_score\n",
        "from sklearn.metrics import f1_score\n",
        "from sklearn.metrics import roc_auc_score"
      ],
      "execution_count": null,
      "outputs": []
    },
    {
      "cell_type": "code",
      "metadata": {
        "id": "u5tJ818RtrQn"
      },
      "source": [
        "# #function to get email text from email body\n",
        "# def getmailtext(message): #getting plain text 'email body'\n",
        "#     body = None\n",
        "#     #check if mbox email message has multiple parts\n",
        "#     if message.is_multipart():\n",
        "#         for part in message.walk():\n",
        "#             if part.is_multipart():\n",
        "#                 for subpart in part.walk():\n",
        "#                     if subpart.get_content_type() == 'text/plain':\n",
        "#                         body = subpart.get_payload(decode=True)\n",
        "#             elif part.get_content_type() == 'text/plain':\n",
        "#                 body = part.get_payload(decode=True)\n",
        "#     #if message only has a single part            \n",
        "#     elif message.get_content_type() == 'text/plain':\n",
        "#         body = message.get_payload(decode=True)\n",
        "#     #return mail text which concatenates both mail subject and body\n",
        "#     mailtext=str(message['subject'])+\" \"+str(body)\n",
        "#     return mailtext"
      ],
      "execution_count": null,
      "outputs": []
    },
    {
      "cell_type": "code",
      "metadata": {
        "id": "tzdGHHjItvCC"
      },
      "source": [
        "# #read spam mbox email file\n",
        "# mbox = mailbox.mbox('/content/drive/MyDrive/Spam dataset/Spam.mbox')\n",
        "\n",
        "# mlist_spam = []\n",
        "# #create list which contains mail text for each spam email message\n",
        "# for message in mbox:\n",
        "#     mlist_spam.append(getmailtext(message))\n",
        "#     #break\n",
        "# #read ham mbox email file\n",
        "# mbox_ham = mailbox.mbox('/content/drive/MyDrive/Spam dataset/Ham.mbox')\n",
        "\n",
        "# mlist_ham = []\n",
        "# count=0\n",
        "# #create list which contains mail text for each ham email message\n",
        "# for message in mbox_ham:\n",
        "    \n",
        "#     mlist_ham.append(getmailtext(message))\n",
        "#     if count>601:\n",
        "#         break\n",
        "#     count+=1"
      ],
      "execution_count": null,
      "outputs": []
    },
    {
      "cell_type": "code",
      "metadata": {
        "id": "jmJ81hV1tyfW",
        "colab": {
          "base_uri": "https://localhost:8080/"
        },
        "outputId": "f276448d-882c-429e-ba51-087452df4057"
      },
      "source": [
        "# #create 2 dataframes for ham spam mails which contain the following info-\n",
        "# #Mail text, mail length, mail is ham/spam label\n",
        "# import pandas as pd\n",
        "# spam_df = pd.DataFrame(mlist_spam, columns=[\"message\"])\n",
        "# spam_df[\"label\"] = \"spam\"\n",
        "\n",
        "# spam_df['length'] = spam_df['message'].map(lambda text: len(text))\n",
        "# print(spam_df.head())\n",
        "\n",
        "# ham_df = pd.DataFrame(mlist_ham, columns=[\"message\"])\n",
        "# ham_df[\"label\"] = \"ham\"\n",
        "\n",
        "# ham_df['length'] = ham_df['message'].map(lambda text: len(text))\n",
        "# print(ham_df.head())"
      ],
      "execution_count": null,
      "outputs": [
        {
          "output_type": "stream",
          "text": [
            "                                             message label  length\n",
            "0  Add a dose of Pharma to your portfolio. b'----...  spam    1591\n",
            "1  =?utf-8?Q?GATE=20One=20year=20Preparation=20St...  spam    1056\n",
            "2  =?utf-8?Q?GATE=20Exam=20Importance=2C=20Paper=...  spam    1127\n",
            "3  Discover exciting new shores! b'Nippon India U...  spam    1970\n",
            "4  PF Investment beyond 2.5 lakh taxed! Consider ...  spam    2562\n",
            "                                             message label  length\n",
            "0  =?UTF-8?Q?=F0=9F=93=A3Show_Her_Some_Appreciati...   ham    3380\n",
            "1  Join The Lab - OnePlus 9 Series b'To view the ...   ham     571\n",
            "2  Spring-Summer '21 Colour Trends b'Add them to ...   ham    3227\n",
            "3  =?UTF-8?Q?Aapka_time_aagaya=E2=80=A6_ab_jaane_...   ham      75\n",
            "4  =?utf-8?q?What_is_the_future_in_ECE=3F?= b'Har...   ham    5049\n"
          ],
          "name": "stdout"
        }
      ]
    },
    {
      "cell_type": "code",
      "metadata": {
        "colab": {
          "base_uri": "https://localhost:8080/",
          "height": 203
        },
        "id": "Uinq7xMN7uZa",
        "outputId": "bc4a460a-d7bd-4673-a3d2-681422066148"
      },
      "source": [
        "data = pd.read_csv('/content/drive/MyDrive/Spam dataset/spam_ham_dataset.csv')\n",
        "data.head()\n",
        "# len(data['text'][0])"
      ],
      "execution_count": null,
      "outputs": [
        {
          "output_type": "execute_result",
          "data": {
            "text/html": [
              "<div>\n",
              "<style scoped>\n",
              "    .dataframe tbody tr th:only-of-type {\n",
              "        vertical-align: middle;\n",
              "    }\n",
              "\n",
              "    .dataframe tbody tr th {\n",
              "        vertical-align: top;\n",
              "    }\n",
              "\n",
              "    .dataframe thead th {\n",
              "        text-align: right;\n",
              "    }\n",
              "</style>\n",
              "<table border=\"1\" class=\"dataframe\">\n",
              "  <thead>\n",
              "    <tr style=\"text-align: right;\">\n",
              "      <th></th>\n",
              "      <th>Unnamed: 0</th>\n",
              "      <th>label</th>\n",
              "      <th>text</th>\n",
              "      <th>label_num</th>\n",
              "    </tr>\n",
              "  </thead>\n",
              "  <tbody>\n",
              "    <tr>\n",
              "      <th>0</th>\n",
              "      <td>605</td>\n",
              "      <td>ham</td>\n",
              "      <td>Subject: enron methanol ; meter # : 988291\\r\\n...</td>\n",
              "      <td>0</td>\n",
              "    </tr>\n",
              "    <tr>\n",
              "      <th>1</th>\n",
              "      <td>2349</td>\n",
              "      <td>ham</td>\n",
              "      <td>Subject: hpl nom for january 9 , 2001\\r\\n( see...</td>\n",
              "      <td>0</td>\n",
              "    </tr>\n",
              "    <tr>\n",
              "      <th>2</th>\n",
              "      <td>3624</td>\n",
              "      <td>ham</td>\n",
              "      <td>Subject: neon retreat\\r\\nho ho ho , we ' re ar...</td>\n",
              "      <td>0</td>\n",
              "    </tr>\n",
              "    <tr>\n",
              "      <th>3</th>\n",
              "      <td>4685</td>\n",
              "      <td>spam</td>\n",
              "      <td>Subject: photoshop , windows , office . cheap ...</td>\n",
              "      <td>1</td>\n",
              "    </tr>\n",
              "    <tr>\n",
              "      <th>4</th>\n",
              "      <td>2030</td>\n",
              "      <td>ham</td>\n",
              "      <td>Subject: re : indian springs\\r\\nthis deal is t...</td>\n",
              "      <td>0</td>\n",
              "    </tr>\n",
              "  </tbody>\n",
              "</table>\n",
              "</div>"
            ],
            "text/plain": [
              "   Unnamed: 0  ... label_num\n",
              "0         605  ...         0\n",
              "1        2349  ...         0\n",
              "2        3624  ...         0\n",
              "3        4685  ...         1\n",
              "4        2030  ...         0\n",
              "\n",
              "[5 rows x 4 columns]"
            ]
          },
          "metadata": {
            "tags": []
          },
          "execution_count": 8
        }
      ]
    },
    {
      "cell_type": "code",
      "metadata": {
        "colab": {
          "base_uri": "https://localhost:8080/",
          "height": 203
        },
        "id": "9nqnE10m85_c",
        "outputId": "3ab18fa6-e7ad-4843-ec73-d27136ad4f0a"
      },
      "source": [
        "data.rename(columns = {'text':'message'}, inplace = True)\n",
        "data['length'] = data['message'].map(lambda text: len(text))\n",
        "data=data.drop(['Unnamed: 0'], axis=1)\n",
        "data=data.drop(['label_num'], axis=1)\n",
        "\n",
        "columns_titles = [\"message\",\"label\",\"length\"]\n",
        "data=data.reindex(columns=columns_titles)\n",
        "data.head()"
      ],
      "execution_count": null,
      "outputs": [
        {
          "output_type": "execute_result",
          "data": {
            "text/html": [
              "<div>\n",
              "<style scoped>\n",
              "    .dataframe tbody tr th:only-of-type {\n",
              "        vertical-align: middle;\n",
              "    }\n",
              "\n",
              "    .dataframe tbody tr th {\n",
              "        vertical-align: top;\n",
              "    }\n",
              "\n",
              "    .dataframe thead th {\n",
              "        text-align: right;\n",
              "    }\n",
              "</style>\n",
              "<table border=\"1\" class=\"dataframe\">\n",
              "  <thead>\n",
              "    <tr style=\"text-align: right;\">\n",
              "      <th></th>\n",
              "      <th>message</th>\n",
              "      <th>label</th>\n",
              "      <th>length</th>\n",
              "    </tr>\n",
              "  </thead>\n",
              "  <tbody>\n",
              "    <tr>\n",
              "      <th>0</th>\n",
              "      <td>Subject: enron methanol ; meter # : 988291\\r\\n...</td>\n",
              "      <td>ham</td>\n",
              "      <td>327</td>\n",
              "    </tr>\n",
              "    <tr>\n",
              "      <th>1</th>\n",
              "      <td>Subject: hpl nom for january 9 , 2001\\r\\n( see...</td>\n",
              "      <td>ham</td>\n",
              "      <td>97</td>\n",
              "    </tr>\n",
              "    <tr>\n",
              "      <th>2</th>\n",
              "      <td>Subject: neon retreat\\r\\nho ho ho , we ' re ar...</td>\n",
              "      <td>ham</td>\n",
              "      <td>2524</td>\n",
              "    </tr>\n",
              "    <tr>\n",
              "      <th>3</th>\n",
              "      <td>Subject: photoshop , windows , office . cheap ...</td>\n",
              "      <td>spam</td>\n",
              "      <td>414</td>\n",
              "    </tr>\n",
              "    <tr>\n",
              "      <th>4</th>\n",
              "      <td>Subject: re : indian springs\\r\\nthis deal is t...</td>\n",
              "      <td>ham</td>\n",
              "      <td>336</td>\n",
              "    </tr>\n",
              "  </tbody>\n",
              "</table>\n",
              "</div>"
            ],
            "text/plain": [
              "                                             message label  length\n",
              "0  Subject: enron methanol ; meter # : 988291\\r\\n...   ham     327\n",
              "1  Subject: hpl nom for january 9 , 2001\\r\\n( see...   ham      97\n",
              "2  Subject: neon retreat\\r\\nho ho ho , we ' re ar...   ham    2524\n",
              "3  Subject: photoshop , windows , office . cheap ...  spam     414\n",
              "4  Subject: re : indian springs\\r\\nthis deal is t...   ham     336"
            ]
          },
          "metadata": {
            "tags": []
          },
          "execution_count": 9
        }
      ]
    },
    {
      "cell_type": "code",
      "metadata": {
        "id": "z7AhoLouzwFN"
      },
      "source": [
        "# type(ham_df['message'][0])"
      ],
      "execution_count": null,
      "outputs": []
    },
    {
      "cell_type": "code",
      "metadata": {
        "id": "v9YdS7Ivt1jN"
      },
      "source": [
        "# #merge and shuffle dataframes for ham/spam mails\n",
        "# mail_df = pd.concat([spam_df,ham_df])\n",
        "# from sklearn.utils import shuffle\n",
        "# mail_df = shuffle(mail_df)\n",
        "# len(mail_df)"
      ],
      "execution_count": null,
      "outputs": []
    },
    {
      "cell_type": "code",
      "metadata": {
        "id": "7RsJwygit3ib"
      },
      "source": [
        "mail_train, mail_test, y_train, y_test = train_test_split(data['message'],data['label'],test_size=0.33, random_state=42)\n"
      ],
      "execution_count": null,
      "outputs": []
    },
    {
      "cell_type": "code",
      "metadata": {
        "id": "UPcDLUXWt6be"
      },
      "source": [
        "#for each word in the email text, get the base form of the word and return the list of base words\n",
        "def split_into_lemmas(message):\n",
        "    message = message.lower()\n",
        "    words = TextBlob(message).words\n",
        "    # for each word, take its \"base form\" = lemma \n",
        "    return [word.lemma for word in words]"
      ],
      "execution_count": null,
      "outputs": []
    },
    {
      "cell_type": "code",
      "metadata": {
        "id": "pA_ivU07t-ei"
      },
      "source": [
        "#function to apply the count vectorizer(BOW) and TF-IDF transforms to a set of input features\n",
        "def features_transform(mail):\n",
        "    #get the bag of words for the mail text\n",
        "    bow_transformer = CountVectorizer(analyzer=split_into_lemmas).fit(mail_train)\n",
        "    #print(len(bow_transformer.vocabulary_))\n",
        "    messages_bow = bow_transformer.transform(mail)\n",
        "    #print sparsity value\n",
        "    print('sparse matrix shape:', messages_bow.shape)\n",
        "    print('number of non-zeros:', messages_bow.nnz) \n",
        "    print('sparsity: %.2f%%' % (100.0 * messages_bow.nnz / (messages_bow.shape[0] * messages_bow.shape[1])))\n",
        "    #apply the TF-IDF transform to the output of BOW\n",
        "    tfidf_transformer = TfidfTransformer().fit(messages_bow)\n",
        "    messages_tfidf = tfidf_transformer.transform(messages_bow)\n",
        "    #print(messages_tfidf.shape)\n",
        "    #return result of transforms\n",
        "    return messages_tfidf"
      ],
      "execution_count": null,
      "outputs": []
    },
    {
      "cell_type": "code",
      "metadata": {
        "id": "2nWRDNA8uBLo",
        "colab": {
          "base_uri": "https://localhost:8080/"
        },
        "outputId": "ae7b4f84-02dc-45b6-fa1f-7ba6424d2a3c"
      },
      "source": [
        "nltk.download('punkt')\n",
        "nltk.download('wordnet')\n",
        "train_features=features_transform(mail_train)"
      ],
      "execution_count": null,
      "outputs": [
        {
          "output_type": "stream",
          "text": [
            "[nltk_data] Downloading package punkt to /root/nltk_data...\n",
            "[nltk_data]   Unzipping tokenizers/punkt.zip.\n",
            "[nltk_data] Downloading package wordnet to /root/nltk_data...\n",
            "[nltk_data]   Unzipping corpora/wordnet.zip.\n",
            "sparse matrix shape: (3464, 38830)\n",
            "number of non-zeros: 318764\n",
            "sparsity: 0.24%\n"
          ],
          "name": "stdout"
        }
      ]
    },
    {
      "cell_type": "code",
      "metadata": {
        "id": "l2pjPOPquD3W"
      },
      "source": [
        "#function which takes in y test value and y predicted value and prints the associated model performance metrics\n",
        "def model_assessment(y_test,predicted_class):\n",
        "    print('confusion matrix')\n",
        "    print(confusion_matrix(y_test,predicted_class))\n",
        "    print('accuracy')\n",
        "    print(accuracy_score(y_test,predicted_class))\n",
        "    print('precision')\n",
        "    print(precision_score(y_test,predicted_class,pos_label='spam'))\n",
        "    print('recall')\n",
        "    print(recall_score(y_test,predicted_class,pos_label='spam'))\n",
        "    print('f-Score')\n",
        "    print(f1_score(y_test,predicted_class,pos_label='spam'))\n",
        "    print('AUC')\n",
        "    print(roc_auc_score(np.where(y_test=='spam',1,0),np.where(predicted_class=='spam',1,0)))\n",
        "    plt.matshow(confusion_matrix(y_test, predicted_class), cmap=plt.cm.binary, interpolation='nearest')\n",
        "    plt.title('confusion matrix')\n",
        "    plt.colorbar()\n",
        "    plt.ylabel('expected label')\n",
        "    plt.xlabel('predicted label')"
      ],
      "execution_count": null,
      "outputs": []
    },
    {
      "cell_type": "code",
      "metadata": {
        "id": "kxoi5cexuHNs"
      },
      "source": [
        "\n",
        "from sklearn.ensemble import RandomForestClassifier"
      ],
      "execution_count": null,
      "outputs": []
    },
    {
      "cell_type": "code",
      "metadata": {
        "id": "B9U4F7jXuJde"
      },
      "source": [
        "#create and fit model\n",
        "model_rf=RandomForestClassifier(n_estimators=20,criterion='entropy')"
      ],
      "execution_count": null,
      "outputs": []
    },
    {
      "cell_type": "code",
      "metadata": {
        "id": "AO-Ri7zDuLO-",
        "colab": {
          "base_uri": "https://localhost:8080/"
        },
        "outputId": "2a2aeb49-1c56-4f7f-d5d9-268a00416728"
      },
      "source": [
        "model_rf.fit(train_features,y_train)"
      ],
      "execution_count": null,
      "outputs": [
        {
          "output_type": "execute_result",
          "data": {
            "text/plain": [
              "RandomForestClassifier(bootstrap=True, ccp_alpha=0.0, class_weight=None,\n",
              "                       criterion='entropy', max_depth=None, max_features='auto',\n",
              "                       max_leaf_nodes=None, max_samples=None,\n",
              "                       min_impurity_decrease=0.0, min_impurity_split=None,\n",
              "                       min_samples_leaf=1, min_samples_split=2,\n",
              "                       min_weight_fraction_leaf=0.0, n_estimators=20,\n",
              "                       n_jobs=None, oob_score=False, random_state=None,\n",
              "                       verbose=0, warm_start=False)"
            ]
          },
          "metadata": {
            "tags": []
          },
          "execution_count": 19
        }
      ]
    },
    {
      "cell_type": "code",
      "metadata": {
        "colab": {
          "base_uri": "https://localhost:8080/"
        },
        "id": "cRGbW715xxqc",
        "outputId": "e19fc95a-d59f-4874-9e5f-96a6b729c48a"
      },
      "source": [
        "email=\"Dear friends, Kalaben Acharya and I just returned from Kazakhstan.  I was invited by their President, Nursultan Nazarbayev, to attend their 6th Congress of World and Traditional Religions, and invited to speak on behalf of Hinduism, on we could make the world can be made more safe and secure. My father, Dr. Shantilal Somaiya had done much to foster inter faith understanding, and had been recognised in Kazakhstan (I have written more about that in a past letter here: https://www.somaiya.edu/oop/en/view-communications-page/37). I would like to share with you, the text of my speech, below. His Excellency Mr. Nursultan Nazarbayev, President of Kazakhstan. His Excellency Kassym-Jomart Tokayev, Leaders and Representatives of World and Traditional Religions. The word secure, is derived from Latin, and means ‘se’ -  without, and ‘cura’, care.  Meaning ‘without care’.  Without worry.  Without fear.  How do we help create a world where we all feel secure, free from fear and threats, and one in which we feel free to dream, hope and pursue our dreams.\"\n",
        "email=[email]\n",
        "predict_features=features_transform(email)\n",
        "predicted_class_rf=model_rf.predict(predict_features)\n",
        "print(predicted_class_rf)"
      ],
      "execution_count": null,
      "outputs": [
        {
          "output_type": "stream",
          "text": [
            "sparse matrix shape: (1, 38830)\n",
            "number of non-zeros: 90\n",
            "sparsity: 0.23%\n",
            "['ham']\n"
          ],
          "name": "stdout"
        }
      ]
    },
    {
      "cell_type": "code",
      "metadata": {
        "id": "e6M_jgREuNzM",
        "colab": {
          "base_uri": "https://localhost:8080/"
        },
        "outputId": "73d98ba2-d8a7-443e-8d58-531163db75f0"
      },
      "source": [
        "#run model on test and print metrics\n",
        "test_features=features_transform(mail_test)\n",
        "predicted_class_rf=model_rf.predict(test_features)"
      ],
      "execution_count": null,
      "outputs": [
        {
          "output_type": "stream",
          "text": [
            "sparse matrix shape: (1707, 38830)\n",
            "number of non-zeros: 143193\n",
            "sparsity: 0.22%\n"
          ],
          "name": "stdout"
        }
      ]
    },
    {
      "cell_type": "code",
      "metadata": {
        "id": "KymwhGkluRqT",
        "colab": {
          "base_uri": "https://localhost:8080/",
          "height": 486
        },
        "outputId": "0a4d80a4-135c-4f64-fa67-7179ceefa3ae"
      },
      "source": [
        "model_assessment(y_test,predicted_class_rf)"
      ],
      "execution_count": null,
      "outputs": [
        {
          "output_type": "stream",
          "text": [
            "confusion matrix\n",
            "[[1222   24]\n",
            " [  46  415]]\n",
            "accuracy\n",
            "0.9589923842999414\n",
            "precision\n",
            "0.9453302961275627\n",
            "recall\n",
            "0.9002169197396963\n",
            "f-Score\n",
            "0.9222222222222223\n",
            "AUC\n",
            "0.9404776412502655\n"
          ],
          "name": "stdout"
        },
        {
          "output_type": "display_data",
          "data": {
            "image/png": "[encoded data removed]",
            "text/plain": [
              "<Figure size 288x288 with 2 Axes>"
            ]
          },
          "metadata": {
            "tags": [],
            "needs_background": "light"
          }
        }
      ]
    },
    {
      "cell_type": "code",
      "metadata": {
        "id": "NxFkyomlgONW"
      },
      "source": [
        "pickle.dump(model_rf, open('spamdetection.pkl','wb'))\n",
        "spamdetection= pickle.load(open('spamdetection.pkl','rb'))"
      ],
      "execution_count": null,
      "outputs": []
    },
    {
      "cell_type": "code",
      "metadata": {
        "id": "GaJ0QVigiFxx"
      },
      "source": [
        ""
      ],
      "execution_count": null,
      "outputs": []
    }
  ]
}